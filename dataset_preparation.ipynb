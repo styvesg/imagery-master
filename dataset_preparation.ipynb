{
 "cells": [
  {
   "cell_type": "markdown",
   "metadata": {},
   "source": [
    "---\n",
    "# A notebook to sort the mess of the naming scheme for the imagery dataset.\n",
    "---\n",
    "<a id='back_to_top'></a>\n",
    "\n",
    "## Major sections\n",
    "* [0. Preliminary Setup](#prim_setup)                       \n",
    "* [1. Prepare the stimuli](#stimuli)\n",
    "* [2. Prepare the voxel responses](#voxels)"
   ]
  },
  {
   "cell_type": "code",
   "execution_count": 22,
   "metadata": {},
   "outputs": [],
   "source": [
    "import sys\n",
    "import os\n",
    "import time\n",
    "import numpy as np\n",
    "import h5py\n",
    "from scipy import ndimage as nd\n",
    "from scipy.io import loadmat ##\n",
    "from tqdm import tqdm\n",
    "import pickle\n",
    "import math\n",
    "import PIL.Image as pim\n",
    "import matplotlib.pyplot as plt\n",
    "%matplotlib inline\n",
    "\n",
    "import src.file_utility as pfu"
   ]
  },
  {
   "cell_type": "markdown",
   "metadata": {},
   "source": [
    "<a id='prim_setup'></a>\n",
    "## Preliminary setup: Target files"
   ]
  },
  {
   "cell_type": "code",
   "execution_count": 2,
   "metadata": {},
   "outputs": [],
   "source": [
    "project = 'imagery_rf'\n",
    "subject    = 'CO'\n",
    "subject_dir = 'CO_new'\n",
    "dataset_dir = \"/home/styvesg/Documents/PostDoc/Datasets/imagery_rf/%s/\" % subject_dir\n",
    "stimuli_dir = \"/home/styvesg/Documents/PostDoc/Datasets/imagery_rf/stimuli/\"\n",
    "\n",
    "condit_file_name     = \"%s_condit_names.mat\" % subject\n",
    "betas_file_name      = \"%s_all_runs_BETAs.mat\" % subject\n",
    "roi_prob_mask_name   = \"vox_by_ROI_%s.mat\" % subject\n",
    "brain_mask_file_name = \"%s_mean_func_brain_pt1_mask_fixed.nii\" % subject\n",
    "roi_mask_file_name   = \"%s_ROIprob_by_vol.nii.gz\" % subject\n",
    "voxel_mask_file_name   = None #\"%s_10kastDial_mythick_0pt05RibbonMask_plusOldCombo.nii.gz\" % subject #\"CO_myROIs_both_byVAL_inFUNCspace.nii.gz\"\n",
    "kast_roi_mask_file_name   = None"
   ]
  },
  {
   "cell_type": "markdown",
   "metadata": {},
   "source": [
    "## Map definitions"
   ]
  },
  {
   "cell_type": "code",
   "execution_count": 3,
   "metadata": {
    "collapsed": true
   },
   "outputs": [],
   "source": [
    "# the map of the indices in the file to the named ROI\n",
    "roi_map = {0: 'V1v_L', 1: 'V1v_R', 2: 'V1d_L', 3: 'V1d_R',\n",
    "           4: 'V2v_L', 5: 'V2v_R', 6: 'V2d_L', 7: 'V2d_R',\n",
    "           8: 'V3v_L', 9: 'V3v_R', 10: 'V3d_L', 11: 'V3d_R',\n",
    "           12: 'hV4_L', 13: 'hV4_R',\n",
    "           14: 'VO1_L', 15: 'VO1_R', 16: 'VO2_L', 17: 'VO2_R',\n",
    "           18: 'PHC1_L', 19: 'PHC1_R', 20: 'PHC2_L', 21: 'PHC2_R',\n",
    "           22: 'MST_L', 23: 'MST_R', 24: 'hMT_L', 25: 'hMT_R',\n",
    "           26: 'LO_L_null', 27: 'LO_R_null', 28: 'LO_L', 29: 'LO_R', \n",
    "           30: 'V3b_L', 31: 'V3b_R', 32: 'V3a_L', 33: 'V3a_R',\n",
    "           34: 'IPS0_L', 35: 'IPS0_R',\n",
    "           36: 'IPS1_L', 37: 'IPS1_R',\n",
    "           38: 'IPS2_L', 39: 'IPS2_R',\n",
    "           40: 'IPS3_L', 41: 'IPS3_R',\n",
    "           42: 'IPS4_L', 43: 'IPS4_R',\n",
    "           44: 'IPS5_L', 45: 'IPS5_R',\n",
    "           46: 'SPL1_L', 47: 'SPL1_R'}\n",
    "\n",
    "# the code used in the image name to denote the position of the picture in the image.\n",
    "ori_map = {'north': 0, 'west': 1, 'southwest': 2, 'northwest': 3, 'east': 4, 'south': 5, 'northeast': 6, 'southeast': 7}"
   ]
  },
  {
   "cell_type": "markdown",
   "metadata": {},
   "source": [
    "<a id='stimuli'></a>\n",
    "# 1. Prepare the stimuli\n",
    "\n",
    "[back to top](#back_to_top)"
   ]
  },
  {
   "cell_type": "code",
   "execution_count": 37,
   "metadata": {},
   "outputs": [
    {
     "name": "stdout",
     "output_type": "stream",
     "text": [
      "  Found 64 objects\n",
      "  Conversion of Object/Session to image name code.\n",
      "  Breakdown of the session token into (subfolder, presentation, run, type).\n",
      "  Reconstruction of the file name, orientation and picture.\n",
      "  1024 images\n"
     ]
    }
   ],
   "source": [
    "condit_names = loadmat(dataset_dir + condit_file_name)\n",
    "\n",
    "seq, clo, ori = [],[],[]\n",
    "for i,s in enumerate(condit_names['all_cur_subj_condits'][0,:]):\n",
    "    iseq, icls, iobj, iori = s[0].split('/')\n",
    "    seq += [iseq,]\n",
    "    clo += [('imagery_%03d/' % int(s[0][0]) +icls+'.'+iobj).replace(',','_').replace(' ','_'),]\n",
    "    ori += [iori,]   \n",
    "# conversion between the file structure and image name code\n",
    "templates = []\n",
    "for i in range(1,9):\n",
    "    folder = stimuli_dir + 'imagery_%03d/' % i\n",
    "    templates += [fn.split('/')[-2:] for fn in pfu.list_files(folder) if '.png' in fn]\n",
    "print \"  Found %d objects\" % len(templates)\n",
    "# object map\n",
    "clo_map = {}\n",
    "for fn,t in templates:\n",
    "    tok = t.split('.')\n",
    "    clo_map[(fn+'/'+tok[0]+'.'+tok[1]).replace(',','_').replace(' ','_')] = tok[3]+'.'+tok[2]\n",
    "print \"  Conversion of Object/Session to image name code.\"\n",
    "#print clo_map\n",
    "lab_map, seq_map = {},{}\n",
    "for fn, t in templates:\n",
    "    tok = t.split('.')\n",
    "    f = open(stimuli_dir + '/%s/%s.txt' % (fn, tok[3]))\n",
    "    lab_map[(fn+'/'+tok[0]+'.'+tok[1]).replace(',','_').replace(' ','_')] = f.read()\n",
    "    f.close()\n",
    "for i in range(1,9):\n",
    "    for s in ['pcp', 'img']:\n",
    "        seq_map['%d%s' % (i,s)] = ('imagery_%03d/frame_files' % i, 'cue' if s=='img' else 'image', i, s)\n",
    "print \"  Breakdown of the session token into (subfolder, presentation, run, type).\" \n",
    "#print seq_map\n",
    "stim_files, stim_label, stim_exp, stim_seq = [],[],[],[]\n",
    "for s,c,o in zip(seq, clo, ori):\n",
    "    sub,ext,e,s = seq_map[s]\n",
    "    stim_files += ['%s/%s.%02d.%s.png' % (sub,clo_map[c],ori_map[o],ext),]\n",
    "    stim_label += [lab_map[c][:6],] # shorten the label to 6 letters, removing the carriage return\n",
    "    stim_exp += [e,]\n",
    "    stim_seq += [s,]\n",
    "print \"  Reconstruction of the file name, orientation and picture.\"\n",
    "print \"  %d images\" % len(stim_files)"
   ]
  },
  {
   "cell_type": "markdown",
   "metadata": {},
   "source": [
    "## Now that we have a regular file list, we can load all these files and concatenate them into a regular array."
   ]
  },
  {
   "cell_type": "code",
   "execution_count": 11,
   "metadata": {},
   "outputs": [],
   "source": [
    "npc = 3\n",
    "npx = 600\n",
    "\n",
    "def processImage(f, npx):\n",
    "    im = pim.open(f)\n",
    "    return np.asarray(pfu.center_crop(im.convert('RGB')).resize((npx, npx), resample=pim.BILINEAR))\n",
    "\n",
    "stim_data = np.ndarray(shape=(len(stim_files), npx, npx, npc), dtype=np.uint8)\n",
    "for i,f in enumerate(stim_files): \n",
    "    stim_data[i,...] = processImage(stimuli_dir + f, npx)"
   ]
  },
  {
   "cell_type": "markdown",
   "metadata": {},
   "source": [
    "## Display an example image with the tokens that we've extracted from the file name"
   ]
  },
  {
   "cell_type": "code",
   "execution_count": 20,
   "metadata": {},
   "outputs": [
    {
     "name": "stdout",
     "output_type": "stream",
     "text": [
      "cue shown               : picgrp\n",
      "experimental run        : 8\n",
      "experiment type         : pcp\n",
      "position                : northeast\n",
      "unique object identifier: imagery_008/many_humans.people\n"
     ]
    },
    {
     "data": {
      "image/png": "[encoded data removed]",
      "text/plain": [
       "<matplotlib.figure.Figure at 0x7fa122c5e350>"
      ]
     },
     "metadata": {},
     "output_type": "display_data"
    }
   ],
   "source": [
    "plt.imshow(stim_data[-1])\n",
    "print \"Cue shown               : %s\" % stim_label[-1]\n",
    "print \"Experimental run        : %s\" % stim_exp[-1]\n",
    "print \"Experiment type         : %s\" % stim_seq[-1]\n",
    "print \"Position                : %s\" % ori[-1]\n",
    "print \"Unique object identifier: %s\" % clo[-1]"
   ]
  },
  {
   "cell_type": "markdown",
   "metadata": {},
   "source": [
    "## Save to disk\n",
    "Stimuli_metadata.pkl is all the irregular dictionaries characterizing the inputs while the regular inputs are saved under \"Stimuli.h5py\""
   ]
  },
  {
   "cell_type": "code",
   "execution_count": 56,
   "metadata": {},
   "outputs": [
    {
     "name": "stdout",
     "output_type": "stream",
     "text": [
      "/home/styvesg/Documents/PostDoc/Datasets/imagery_rf/LF/Stimuli_metadata.pkl\n"
     ]
    }
   ],
   "source": [
    "stim_file_name = dataset_dir + \"Stimuli_metadata.pkl\"\n",
    "stim_file = open(stim_file_name, 'wb')\n",
    "stim_dict = {\n",
    "    'project': project,\n",
    "    'label': stim_label,\n",
    "    'ori': ori,\n",
    "    'exp': stim_exp,\n",
    "    'seq': stim_seq,\n",
    "    'clo': clo,\n",
    "    'orimap': ori_map,\n",
    "    'clomap': clo_map\n",
    "}\n",
    "pickle.dump(stim_dict, stim_file)\n",
    "stim_file.close()\n",
    "print stim_file_name"
   ]
  },
  {
   "cell_type": "code",
   "execution_count": null,
   "metadata": {
    "collapsed": true
   },
   "outputs": [],
   "source": [
    "pfu.save_stuff(dataset_dir + \"Stimuli\", {'stim': stim_data})"
   ]
  },
  {
   "cell_type": "markdown",
   "metadata": {
    "collapsed": true
   },
   "source": [
    "<a id='voxels'></a>\n",
    "# 2. Prepare the voxel responses\n",
    "\n",
    "[back to top](#back_to_top)"
   ]
  },
  {
   "cell_type": "markdown",
   "metadata": {},
   "source": [
    "## Load brain mask and ROI masks"
   ]
  },
  {
   "cell_type": "code",
   "execution_count": 29,
   "metadata": {},
   "outputs": [
    {
     "name": "stdout",
     "output_type": "stream",
     "text": [
      "ROI masks shape      : (349839, 48)\n",
      "argmax ROI mask shape: (349839,)\n"
     ]
    }
   ],
   "source": [
    "full_brain_mask = pfu.load_mask_from_nii(dataset_dir+brain_mask_file_name)\n",
    "roi_prob_masks = loadmat(dataset_dir + roi_prob_mask_name)['vox_by_ROI']\n",
    "print \"ROI masks shape      : %s\" % (roi_prob_masks.shape,)\n",
    "\n",
    "roi_max_mask = np.argmax(roi_prob_masks, axis=1)\n",
    "roi_max_mask[np.sum(roi_prob_masks, axis=1)==0] = -1\n",
    "print \"argmax ROI mask shape: %s\" % (roi_max_mask.shape,)"
   ]
  },
  {
   "cell_type": "markdown",
   "metadata": {},
   "source": [
    "## Load voxel data and verify integrity"
   ]
  },
  {
   "cell_type": "code",
   "execution_count": 31,
   "metadata": {},
   "outputs": [
    {
     "name": "stdout",
     "output_type": "stream",
     "text": [
      "['all_runs_matrix', '__version__', '__header__', '__globals__']\n",
      "349839 voxels for all images\n",
      "349839 voxels contain valid values for all images\n",
      "All voxel responses shape: (1024, 349839)\n"
     ]
    }
   ],
   "source": [
    "voxelset = loadmat(dataset_dir+betas_file_name)\n",
    "print voxelset.keys()\n",
    "whole_brain_voxel_data = voxelset['all_runs_matrix'].T # re-orient to [samples, voxels]\n",
    "\n",
    "voxelNanMask = ~np.isnan(whole_brain_voxel_data).any(axis=0)\n",
    "nv = np.sum(voxelNanMask)\n",
    "print \"%d voxels for all images\" % len(voxelNanMask)\n",
    "print \"%d voxels contain valid values for all images\" % nv\n",
    "\n",
    "voxel_data = whole_brain_voxel_data[:, voxelNanMask].astype(dtype=np.float32)\n",
    "print \"All voxel responses shape: %s\" % (voxel_data.shape,)"
   ]
  },
  {
   "cell_type": "markdown",
   "metadata": {},
   "source": [
    "## Create the ROI-only voxel mask"
   ]
  },
  {
   "cell_type": "code",
   "execution_count": 32,
   "metadata": {},
   "outputs": [
    {
     "name": "stdout",
     "output_type": "stream",
     "text": [
      "Brain volume shape: (130, 130, 70)\n",
      "total voxel count = 349839\n",
      "voxel count in ROIs = 46909\n"
     ]
    }
   ],
   "source": [
    "full_brain_shape = full_brain_mask.shape\n",
    "full_brain_mask = full_brain_mask.flatten(order='F')\n",
    "print \"Brain volume shape: %s\" % (full_brain_shape,)\n",
    "\n",
    "idx_mask = np.arange(full_brain_mask.size)[full_brain_mask==1]\n",
    "assert len(idx_mask)==nv, \"nv = %d != %d\" % (nv, len(idx_mask))\n",
    "\n",
    "#voxel_mask = full_voxel_mask.flatten(order='F')[full_brain_mask==1]\n",
    "voxel_mask = (roi_max_mask>=0)\n",
    "assert len(voxel_mask)==nv\n",
    "print \"total voxel count = %d\" % nv\n",
    "print \"voxel count in ROIs = %d\" % np.sum(voxel_mask)"
   ]
  },
  {
   "cell_type": "markdown",
   "metadata": {},
   "source": [
    "---\n",
    "## Display the ROI-only voxel mask and the individual ROIs"
   ]
  },
  {
   "cell_type": "code",
   "execution_count": 33,
   "metadata": {},
   "outputs": [],
   "source": [
    "volume_voxel = pfu.view_data(full_brain_shape, idx_mask, voxel_mask)\n",
    "volume_roi = pfu.view_data(full_brain_shape, idx_mask, roi_max_mask)"
   ]
  },
  {
   "cell_type": "code",
   "execution_count": 34,
   "metadata": {},
   "outputs": [
    {
     "data": {
      "text/plain": [
       "<matplotlib.colorbar.Colorbar at 0x7fa0db078e90>"
      ]
     },
     "execution_count": 34,
     "metadata": {},
     "output_type": "execute_result"
    },
    {
     "data": {
      "image/png": "[encoded data removed]",
      "text/plain": [
       "<matplotlib.figure.Figure at 0x7fa122b37c50>"
      ]
     },
     "metadata": {},
     "output_type": "display_data"
    }
   ],
   "source": [
    "fig = plt.figure(figsize=(16,6))\n",
    "plt.subplot(1,2,1)\n",
    "plt.imshow(volume_voxel[:,:,15], cmap='Set1_r', interpolation='None')\n",
    "plt.colorbar()\n",
    "plt.subplot(1,2,2)\n",
    "plt.imshow(volume_roi[:,:,15], cmap='Set1_r', interpolation='None')\n",
    "plt.colorbar()\n",
    "#plt.grid('off')"
   ]
  },
  {
   "cell_type": "markdown",
   "metadata": {},
   "source": [
    "---"
   ]
  },
  {
   "cell_type": "markdown",
   "metadata": {},
   "source": [
    "## Save to disk\n",
    "Voxels_metadata.pkl is all the irregular dictionaries characterizing the data while the responses are saved under \"Voxels.h5py\""
   ]
  },
  {
   "cell_type": "code",
   "execution_count": 19,
   "metadata": {},
   "outputs": [
    {
     "name": "stdout",
     "output_type": "stream",
     "text": [
      "/home/styvesg/Documents/PostDoc/Datasets/imagery_rf/CO_new/Voxels_metadata.pkl\n"
     ]
    }
   ],
   "source": [
    "voxel_file_name = dataset_dir + \"Voxels_metadata.pkl\"\n",
    "voxel_file = open(voxel_file_name, 'wb')\n",
    "voxel_dict = {'project': project, \n",
    "              'subject': subject,\n",
    "              'idxs': idx_mask,\n",
    "              'brain_mask': full_brain_mask, # mask that masks the brain in the 'volume' space\n",
    "              'grid': full_brain_shape, # the shape of the grid in 'volume' space\n",
    "              'voxel_mask': voxel_mask, \n",
    "              'roi_mask': roi_max_mask,\n",
    "              'roi_map': roi_map}\n",
    "pickle.dump(voxel_dict, voxel_file)\n",
    "voxel_file.close()\n",
    "print voxel_file_name"
   ]
  },
  {
   "cell_type": "code",
   "execution_count": 20,
   "metadata": {},
   "outputs": [
    {
     "name": "stdout",
     "output_type": "stream",
     "text": [
      "saved betas in h5py file\n"
     ]
    }
   ],
   "source": [
    "pfu.save_stuff(dataset_dir + \"Voxels\", {'betas': voxel_data})"
   ]
  },
  {
   "cell_type": "markdown",
   "metadata": {},
   "source": [
    "[back to top](#back_to_top)"
   ]
  }
 ],
 "metadata": {
  "kernelspec": {
   "display_name": "Python 3",
   "language": "python",
   "name": "python3"
  },
  "language_info": {
   "codemirror_mode": {
    "name": "ipython",
    "version": 3
   },
   "file_extension": ".py",
   "mimetype": "text/x-python",
   "name": "python",
   "nbconvert_exporter": "python",
   "pygments_lexer": "ipython3",
   "version": "3.6.8"
  }
 },
 "nbformat": 4,
 "nbformat_minor": 1
}
